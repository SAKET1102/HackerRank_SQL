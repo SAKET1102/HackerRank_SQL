{
 "cells": [
  {
   "cell_type": "markdown",
   "metadata": {},
   "source": [
    "Given the CITY and COUNTRY tables, query the names of all cities where the CONTINENT is 'Africa'.\n",
    "\n",
    "Note: CITY.CountryCode and COUNTRY.Code are matching key columns."
   ]
  },
  {
   "cell_type": "markdown",
   "metadata": {},
   "source": [
    "### select CITY.NAME from CITY, COUNTRY\n",
    "### where CITY.CountryCode = COUNTRY.Code\n",
    "### and CONTINENT  = 'Africa';"
   ]
  },
  {
   "cell_type": "code",
   "execution_count": null,
   "metadata": {},
   "outputs": [],
   "source": []
  }
 ],
 "metadata": {
  "kernelspec": {
   "display_name": "Python 3",
   "language": "python",
   "name": "python3"
  },
  "language_info": {
   "codemirror_mode": {
    "name": "ipython",
    "version": 3
   },
   "file_extension": ".py",
   "mimetype": "text/x-python",
   "name": "python",
   "nbconvert_exporter": "python",
   "pygments_lexer": "ipython3",
   "version": "3.8.3"
  }
 },
 "nbformat": 4,
 "nbformat_minor": 4
}
