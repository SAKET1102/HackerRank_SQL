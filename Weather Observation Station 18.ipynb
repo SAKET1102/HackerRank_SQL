{
 "cells": [
  {
   "cell_type": "markdown",
   "metadata": {},
   "source": [
    "Consider  and  to be two points on a 2D plane.\n",
    "\n",
    " happens to equal the minimum value in Northern Latitude (LAT_N in STATION).\n",
    " happens to equal the minimum value in Western Longitude (LONG_W in STATION).\n",
    " happens to equal the maximum value in Northern Latitude (LAT_N in STATION).\n",
    " happens to equal the maximum value in Western Longitude (LONG_W in STATION).\n",
    "Query the Manhattan Distance between points  and  and round it to a scale of  decimal places."
   ]
  },
  {
   "cell_type": "markdown",
   "metadata": {},
   "source": [
    "### Manhattan Distance is |x1 - x2| + |y1 - y2| = |a - c| + |b - d|."
   ]
  },
  {
   "cell_type": "markdown",
   "metadata": {},
   "source": [
    "### SELECT ROUND(ABS(MIN(LAT_N)-MAX(LAT_N)) + ABS(MIN(LONG_W)-MAX(LONG_W)), 4) FROM STATION;\n"
   ]
  },
  {
   "cell_type": "code",
   "execution_count": null,
   "metadata": {},
   "outputs": [],
   "source": []
  }
 ],
 "metadata": {
  "kernelspec": {
   "display_name": "Python 3",
   "language": "python",
   "name": "python3"
  },
  "language_info": {
   "codemirror_mode": {
    "name": "ipython",
    "version": 3
   },
   "file_extension": ".py",
   "mimetype": "text/x-python",
   "name": "python",
   "nbconvert_exporter": "python",
   "pygments_lexer": "ipython3",
   "version": "3.8.3"
  }
 },
 "nbformat": 4,
 "nbformat_minor": 4
}
