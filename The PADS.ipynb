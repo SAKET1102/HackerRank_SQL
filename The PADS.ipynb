{
 "cells": [
  {
   "cell_type": "markdown",
   "metadata": {},
   "source": [
    "Generate the following two result sets:\n",
    "\n",
    "Query an alphabetically ordered list of all names in OCCUPATIONS, immediately followed by the first letter of each profession as a parenthetical (i.e.: enclosed in parentheses). For example: AnActorName(A), ADoctorName(D), AProfessorName(P), and ASingerName(S).\n",
    "Query the number of ocurrences of each occupation in OCCUPATIONS. Sort the occurrences in ascending order, and output them in the following format:\n",
    "\n",
    "There are a total of [occupation_count] [occupation]s.\n",
    "where [occupation_count] is the number of occurrences of an occupation in OCCUPATIONS and [occupation] is the lowercase occupation name. If more than one Occupation has the same [occupation_count], they should be ordered alphabetically.\n",
    "\n",
    "Note: There will be at least two entries in the table for each type of occupation.\n",
    "\n",
    "Input Format\n",
    "\n",
    "The OCCUPATIONS table is described as follows:  Occupation will only contain one of the following values: Doctor, Professor, Singer or Actor.\n",
    "\n",
    "Sample Input\n",
    "\n",
    "An OCCUPATIONS table that contains the following records:\n",
    "\n",
    "\n",
    "\n",
    "Sample Output\n",
    "\n",
    "Ashely(P)\n",
    "Christeen(P)\n",
    "Jane(A)\n",
    "Jenny(D)\n",
    "Julia(A)\n",
    "Ketty(P)\n",
    "Maria(A)\n",
    "Meera(S)\n",
    "Priya(S)\n",
    "Samantha(D)\n",
    "There are a total of 2 doctors.\n",
    "There are a total of 2 singers.\n",
    "There are a total of 3 actors.\n",
    "There are a total of 3 professors.\n",
    "Explanation\n",
    "\n",
    "The results of the first query are formatted to the problem description's specifications.\n",
    "The results of the second query are ascendingly ordered first by number of names corresponding to each profession (), and then alphabetically by profession (, and )."
   ]
  },
  {
   "cell_type": "markdown",
   "metadata": {},
   "source": [
    "### select concat(name,'(',substr(occupation,1,1),')') from OCCUPATIONS order by name;\n",
    "\n",
    "### select concat('There are a total of',' ',count(Occupation),' ',lower(Occupation),'s.') from OCCUPATIONS group by Occupation order by count(Occupation),Occupation;\n",
    "\n"
   ]
  },
  {
   "cell_type": "code",
   "execution_count": null,
   "metadata": {},
   "outputs": [],
   "source": []
  }
 ],
 "metadata": {
  "kernelspec": {
   "display_name": "Python 3",
   "language": "python",
   "name": "python3"
  },
  "language_info": {
   "codemirror_mode": {
    "name": "ipython",
    "version": 3
   },
   "file_extension": ".py",
   "mimetype": "text/x-python",
   "name": "python",
   "nbconvert_exporter": "python",
   "pygments_lexer": "ipython3",
   "version": "3.8.3"
  }
 },
 "nbformat": 4,
 "nbformat_minor": 4
}
