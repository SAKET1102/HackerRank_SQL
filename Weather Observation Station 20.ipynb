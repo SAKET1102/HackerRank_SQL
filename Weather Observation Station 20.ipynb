{
 "cells": [
  {
   "cell_type": "markdown",
   "metadata": {},
   "source": [
    "**A median is defined as a number separating the higher half of a data set from the lower half.<br> Query the median of the Northern Latitudes (LAT_N) from STATION and round your answer to 4 decimal places.**"
   ]
  },
  {
   "cell_type": "markdown",
   "metadata": {},
   "source": [
    "### Select round(S.LAT_N,4) mediam from station S where (select count(Lat_N) from station where Lat_N < S.LAT_N ) = (select count(Lat_N) from station where Lat_N > S.LAT_N)"
   ]
  },
  {
   "cell_type": "markdown",
   "metadata": {},
   "source": [
    "-- create a table <br>\n",
    "CREATE TABLE students ( <br>\n",
    "  id INTEGER PRIMARY KEY, <br>\n",
    "  marks INTEGER Null, <br>\n",
    "  name TEXT NOT NULL, <br>\n",
    "  gender TEXT NOT NULL <br>\n",
    "); <br>\n",
    "-- insert some values <br>\n",
    "INSERT INTO students VALUES (1,18,'Ryan', 'M'); <br>\n",
    "INSERT INTO students VALUES (2, 14,'Joanna', 'F'); <br>\n",
    "INSERT INTO students VALUES (3, 78,'Raj', 'F'); <br>\n",
    "INSERT INTO students VALUES (4, 19,'Suraj', 'F'); <br>\n",
    "INSERT INTO students VALUES (5, 24,'Rakesh', 'F'); <br>\n",
    "INSERT INTO students VALUES (6, 58,'Sumo', 'F'); <br>\n",
    "INSERT INTO students VALUES (7, 96,'Shekar', 'F'); <br>\n",
    "\n",
    "<br>\n",
    "Select \"Medium---\",S.marks from students S where (select count(marks) from students where marks < S.marks ) =\n",
    "(select count(marks) from students where marks > S.marks);"
   ]
  },
  {
   "cell_type": "markdown",
   "metadata": {},
   "source": [
    "### Medium---24"
   ]
  },
  {
   "cell_type": "code",
   "execution_count": null,
   "metadata": {},
   "outputs": [],
   "source": []
  }
 ],
 "metadata": {
  "kernelspec": {
   "display_name": "Python 3",
   "language": "python",
   "name": "python3"
  },
  "language_info": {
   "codemirror_mode": {
    "name": "ipython",
    "version": 3
   },
   "file_extension": ".py",
   "mimetype": "text/x-python",
   "name": "python",
   "nbconvert_exporter": "python",
   "pygments_lexer": "ipython3",
   "version": "3.8.3"
  }
 },
 "nbformat": 4,
 "nbformat_minor": 4
}
